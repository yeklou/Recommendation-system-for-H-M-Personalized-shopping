{
 "cells": [
  {
   "cell_type": "markdown",
   "id": "75dfdda8",
   "metadata": {},
   "source": [
    "# Collaborative Filtering based on similarity"
   ]
  },
  {
   "cell_type": "code",
   "execution_count": 1,
   "id": "1e69c1c9",
   "metadata": {},
   "outputs": [
    {
     "name": "stdout",
     "output_type": "stream",
     "text": [
      "Note: you may need to restart the kernel to use updated packages.\n"
     ]
    }
   ],
   "source": [
    "pip freeze > requirements.txt"
   ]
  },
  {
   "cell_type": "code",
   "execution_count": 2,
   "id": "1f3ae643",
   "metadata": {},
   "outputs": [],
   "source": [
    "import numpy as np\n",
    "import pandas as pd\n",
    "from sklearn.model_selection import train_test_split\n",
    "from scipy import sparse\n",
    "from matplotlib import pyplot as plt\n",
    "from scipy import stats"
   ]
  },
  {
   "cell_type": "code",
   "execution_count": 3,
   "id": "f70ff4e0",
   "metadata": {},
   "outputs": [
    {
     "name": "stdout",
     "output_type": "stream",
     "text": [
      "Note: you may need to restart the kernel to use updated packages.\n"
     ]
    }
   ],
   "source": [
    "pip freeze > requirements.txt"
   ]
  },
  {
   "cell_type": "code",
   "execution_count": 2,
   "id": "b49c36d5",
   "metadata": {},
   "outputs": [],
   "source": [
    "trans_df = pd.read_csv(\"transactions_train.csv\")"
   ]
  },
  {
   "cell_type": "code",
   "execution_count": 3,
   "id": "1057a698",
   "metadata": {},
   "outputs": [
    {
     "data": {
      "text/html": [
       "<div>\n",
       "<style scoped>\n",
       "    .dataframe tbody tr th:only-of-type {\n",
       "        vertical-align: middle;\n",
       "    }\n",
       "\n",
       "    .dataframe tbody tr th {\n",
       "        vertical-align: top;\n",
       "    }\n",
       "\n",
       "    .dataframe thead th {\n",
       "        text-align: right;\n",
       "    }\n",
       "</style>\n",
       "<table border=\"1\" class=\"dataframe\">\n",
       "  <thead>\n",
       "    <tr style=\"text-align: right;\">\n",
       "      <th></th>\n",
       "      <th>t_dat</th>\n",
       "      <th>customer_id</th>\n",
       "      <th>article_id</th>\n",
       "      <th>price</th>\n",
       "      <th>sales_channel_id</th>\n",
       "    </tr>\n",
       "  </thead>\n",
       "  <tbody>\n",
       "    <tr>\n",
       "      <th>0</th>\n",
       "      <td>2018-09-20</td>\n",
       "      <td>000058a12d5b43e67d225668fa1f8d618c13dc232df0ca...</td>\n",
       "      <td>663713001</td>\n",
       "      <td>0.050831</td>\n",
       "      <td>2</td>\n",
       "    </tr>\n",
       "    <tr>\n",
       "      <th>1</th>\n",
       "      <td>2018-09-20</td>\n",
       "      <td>000058a12d5b43e67d225668fa1f8d618c13dc232df0ca...</td>\n",
       "      <td>541518023</td>\n",
       "      <td>0.030492</td>\n",
       "      <td>2</td>\n",
       "    </tr>\n",
       "    <tr>\n",
       "      <th>2</th>\n",
       "      <td>2018-09-20</td>\n",
       "      <td>00007d2de826758b65a93dd24ce629ed66842531df6699...</td>\n",
       "      <td>505221004</td>\n",
       "      <td>0.015237</td>\n",
       "      <td>2</td>\n",
       "    </tr>\n",
       "    <tr>\n",
       "      <th>3</th>\n",
       "      <td>2018-09-20</td>\n",
       "      <td>00007d2de826758b65a93dd24ce629ed66842531df6699...</td>\n",
       "      <td>685687003</td>\n",
       "      <td>0.016932</td>\n",
       "      <td>2</td>\n",
       "    </tr>\n",
       "    <tr>\n",
       "      <th>4</th>\n",
       "      <td>2018-09-20</td>\n",
       "      <td>00007d2de826758b65a93dd24ce629ed66842531df6699...</td>\n",
       "      <td>685687004</td>\n",
       "      <td>0.016932</td>\n",
       "      <td>2</td>\n",
       "    </tr>\n",
       "  </tbody>\n",
       "</table>\n",
       "</div>"
      ],
      "text/plain": [
       "        t_dat                                        customer_id  article_id  \\\n",
       "0  2018-09-20  000058a12d5b43e67d225668fa1f8d618c13dc232df0ca...   663713001   \n",
       "1  2018-09-20  000058a12d5b43e67d225668fa1f8d618c13dc232df0ca...   541518023   \n",
       "2  2018-09-20  00007d2de826758b65a93dd24ce629ed66842531df6699...   505221004   \n",
       "3  2018-09-20  00007d2de826758b65a93dd24ce629ed66842531df6699...   685687003   \n",
       "4  2018-09-20  00007d2de826758b65a93dd24ce629ed66842531df6699...   685687004   \n",
       "\n",
       "      price  sales_channel_id  \n",
       "0  0.050831                 2  \n",
       "1  0.030492                 2  \n",
       "2  0.015237                 2  \n",
       "3  0.016932                 2  \n",
       "4  0.016932                 2  "
      ]
     },
     "execution_count": 3,
     "metadata": {},
     "output_type": "execute_result"
    }
   ],
   "source": [
    "trans_df.head()"
   ]
  },
  {
   "cell_type": "code",
   "execution_count": 4,
   "id": "9d1d7150",
   "metadata": {},
   "outputs": [],
   "source": [
    "trans_df = trans_df.dropna(subset = ['customer_id'], axis = 0, inplace = False)"
   ]
  },
  {
   "cell_type": "code",
   "execution_count": 5,
   "id": "74588690",
   "metadata": {},
   "outputs": [
    {
     "data": {
      "text/plain": [
       "(31788324, 5)"
      ]
     },
     "execution_count": 5,
     "metadata": {},
     "output_type": "execute_result"
    }
   ],
   "source": [
    "trans_df.shape"
   ]
  },
  {
   "cell_type": "markdown",
   "id": "765e7bf2",
   "metadata": {},
   "source": [
    "## Dataset Filtering"
   ]
  },
  {
   "cell_type": "code",
   "execution_count": null,
   "id": "1930ce69",
   "metadata": {},
   "outputs": [],
   "source": [
    "trans_df['Bought'] = 1\n",
    "import datetime  \n",
    "trans_df[\"t_dat\"]=pd.to_datetime(trans_df[\"t_dat\"])\n",
    "trans_df['pop_factor'] = trans_df['t_dat'].apply(lambda x:1/(datetime.datetime(2020,12,31)-x).days)\n",
    "#pop_factor==rating\n",
    "#"
   ]
  },
  {
   "cell_type": "code",
   "execution_count": null,
   "id": "13bef337",
   "metadata": {},
   "outputs": [],
   "source": [
    "import datetime\n",
    "start_date = datetime.datetime(2019,7,1)\n",
    "# Filter transactions by date\n",
    "trans_df[\"t_dat\"] = pd.to_datetime(trans_df[\"t_dat\"])\n",
    "anime_ratings_df = trans_df.loc[trans_df[\"t_dat\"] >= start_date]"
   ]
  },
  {
   "cell_type": "code",
   "execution_count": null,
   "id": "256f7c71",
   "metadata": {},
   "outputs": [],
   "source": [
    "# Filter transactions by number of an article has been bought\n",
    "#Also, we are getting rid of articles that have not been bought enough. (Minimum 10 purchases are required)\n",
    "article_bought_count = anime_ratings_df[['article_id', 't_dat']].groupby('article_id').count().reset_index().rename(columns={'t_dat': 'count'})\n",
    "most_bought_articles = article_bought_count[article_bought_count['count']>10]['article_id'].values\n",
    "anime_ratings_df = anime_ratings_df[anime_ratings_df['article_id'].isin(most_bought_articles)]"
   ]
  },
  {
   "cell_type": "code",
   "execution_count": null,
   "id": "237cbeb6",
   "metadata": {},
   "outputs": [],
   "source": [
    "#Also, we are getting rid of customer who have not been bought enough. (Minimum purchase of 10 articles is required)\n",
    "customer_bought_count = anime_ratings_df[['customer_id', 'article_id']].groupby('customer_id').count().reset_index().rename(columns={'article_id': 'count'})\n",
    "most_bought_customers = customer_bought_count[customer_bought_count['count']>100]['customer_id'].values\n",
    "anime_ratings_df = anime_ratings_df[anime_ratings_df['customer_id'].isin(most_bought_customers)]"
   ]
  },
  {
   "cell_type": "code",
   "execution_count": null,
   "id": "441ea984",
   "metadata": {},
   "outputs": [],
   "source": [
    "#Also, we are getting rid of customer who have not been bought enough. (articles to be sold minimum of 100 customers is required)\n",
    "customer_bought_count = anime_ratings_df[['customer_id', 'article_id']].groupby('article_id').count().reset_index().rename(columns={'customer_id': 'count'})\n",
    "most_bought_article_customers = customer_bought_count[customer_bought_count['count']>100]['article_id'].values\n",
    "anime_ratings_df = anime_ratings_df[anime_ratings_df['article_id'].isin(most_bought_article_customers)]\n",
    "anime_ratings_df = anime_ratings_df.groupby(['customer_id','article_id'])['pop_factor'].aggregate('sum').reset_index().rename(columns={'pop_factor': 'pop_factor'})"
   ]
  },
  {
   "cell_type": "code",
   "execution_count": null,
   "id": "c72e95c2",
   "metadata": {},
   "outputs": [],
   "source": [
    "#anime_ratings = trans_df\n",
    "\n",
    "#customer_id==>user_id\n",
    "#article_id ==>anime_id\n",
    "#rating==>pop_factor"
   ]
  },
  {
   "cell_type": "code",
   "execution_count": null,
   "id": "50503f67",
   "metadata": {},
   "outputs": [],
   "source": [
    "articles_ratings = anime_ratings_df.loc[trans_df.pop_factor != -1].reset_index()[['customer_id','article_id','pop_factor']]"
   ]
  },
  {
   "cell_type": "code",
   "execution_count": null,
   "id": "9138306a",
   "metadata": {},
   "outputs": [],
   "source": [
    "articles_ratings"
   ]
  },
  {
   "cell_type": "code",
   "execution_count": null,
   "id": "aff38f19",
   "metadata": {},
   "outputs": [],
   "source": [
    "def encode_column(column):\n",
    "    \"\"\" Encodes a pandas column with continous IDs\"\"\"\n",
    "    keys = column.unique()\n",
    "    key_to_id = {key:idx for idx,key in enumerate(keys)}\n",
    "    return key_to_id, np.array([key_to_id[x] for x in column]), len(keys)"
   ]
  },
  {
   "cell_type": "code",
   "execution_count": null,
   "id": "8b1da44b",
   "metadata": {},
   "outputs": [],
   "source": [
    "#df.rename(columns = {'old_name':'new_name'}, inplace = True)"
   ]
  },
  {
   "cell_type": "code",
   "execution_count": null,
   "id": "631795c7",
   "metadata": {},
   "outputs": [],
   "source": [
    "def encode_df(articles_df):\n",
    "    \"\"\"Encodes rating data with continuous user and anime ids\"\"\"\n",
    "    \n",
    "    anime_ids, articles_df['article_id'], num_anime = encode_column(articles_df['article_id'])\n",
    "    user_ids, articles_df['customer_id'], num_users = encode_column(articles_df['customer_id'])\n",
    "    return articles_df, num_users, num_anime, user_ids, anime_ids"
   ]
  },
  {
   "cell_type": "code",
   "execution_count": null,
   "id": "5678f110",
   "metadata": {},
   "outputs": [],
   "source": [
    "articles_ratings = articles_ratings.reset_index()[['customer_id','article_id','pop_factor']]"
   ]
  },
  {
   "cell_type": "code",
   "execution_count": null,
   "id": "dbce846c",
   "metadata": {},
   "outputs": [],
   "source": [
    "articles_ratings"
   ]
  },
  {
   "cell_type": "code",
   "execution_count": null,
   "id": "686512e0",
   "metadata": {},
   "outputs": [],
   "source": [
    "articles_df, num_customers, num_articles, user_ids, anime_ids = encode_df(articles_ratings)\n",
    "print(\"Number of customers :\", num_customers)\n",
    "print(\"Number of articles :\", num_articles)\n",
    "articles_df"
   ]
  },
  {
   "cell_type": "code",
   "execution_count": null,
   "id": "0b2ca637",
   "metadata": {},
   "outputs": [],
   "source": [
    "articles_df['customer_id'].unique()"
   ]
  },
  {
   "cell_type": "code",
   "execution_count": null,
   "id": "6e570ea1",
   "metadata": {},
   "outputs": [],
   "source": [
    "def create_sparse_matrix(df, rows, cols, column_name=\"pop_factor\"):\n",
    "    \"\"\" Returns a sparse utility matrix\"\"\" \n",
    "    return sparse.csc_matrix((df[column_name].values,(df['customer_id'].values, df['article_id'].values)),shape=(rows, cols))"
   ]
  },
  {
   "cell_type": "code",
   "execution_count": null,
   "id": "c878be62",
   "metadata": {},
   "outputs": [],
   "source": [
    "articles_df, num_customers, num_articles, user_ids, anime_ids = encode_df(articles_ratings)\n",
    "Y = create_sparse_matrix(articles_df, num_customers, num_articles)"
   ]
  },
  {
   "cell_type": "code",
   "execution_count": null,
   "id": "3ca0674b",
   "metadata": {},
   "outputs": [],
   "source": [
    "Y.shape"
   ]
  },
  {
   "cell_type": "code",
   "execution_count": null,
   "id": "725156d0",
   "metadata": {},
   "outputs": [],
   "source": [
    "Y.todense()"
   ]
  },
  {
   "cell_type": "markdown",
   "id": "a683aac8",
   "metadata": {},
   "source": [
    "# Use Collaborative Filtering based on similarity ( sklearn) For Article Recommendation"
   ]
  },
  {
   "cell_type": "code",
   "execution_count": null,
   "id": "fc673592",
   "metadata": {},
   "outputs": [],
   "source": [
    "from sklearn.neighbors import NearestNeighbors"
   ]
  },
  {
   "cell_type": "code",
   "execution_count": null,
   "id": "feb66ead",
   "metadata": {},
   "outputs": [],
   "source": [
    "len(articles_df['customer_id'])"
   ]
  },
  {
   "cell_type": "code",
   "execution_count": null,
   "id": "f210c18c",
   "metadata": {},
   "outputs": [],
   "source": [
    "X = np.array(Y.todense())\n",
    "is_id = []\n",
    "user_idss = []\n",
    "pred = []\n",
    "#for i in range(len(user_ids)):\n",
    "for i in range(num_customers):\n",
    "#def recommand_anime_id(user_id, anime_id): \n",
    "    customer_id = i\n",
    "    article_id =1\n",
    "    # from the users rated selected anime_id\n",
    "    X_sub = X[np.nonzero(X[:,article_id])[0],:]\n",
    "    model = NearestNeighbors(n_neighbors=10, metric=\"cosine\")\n",
    "    model.fit(X_sub)\n",
    "# find the top 10 NN of selected user_id\n",
    "    neigh_ind_i = model.kneighbors([X[customer_id,:]], 10, return_distance=False).flatten()\n",
    "    neigh_ind_i\n",
    "    # their average rating is the prediction of user_id on anime_id\n",
    "    user_idss.append(customer_id)\n",
    "    is_id.append(neigh_ind_i)\n",
    "    pred_i = np.mean(X_sub[neigh_ind_i, article_id])\n",
    "    pred.append(pred_i)"
   ]
  },
  {
   "cell_type": "code",
   "execution_count": null,
   "id": "2ac5966b",
   "metadata": {},
   "outputs": [],
   "source": [
    "len(pred)"
   ]
  },
  {
   "cell_type": "code",
   "execution_count": null,
   "id": "d4cafcd3",
   "metadata": {},
   "outputs": [],
   "source": [
    "#Transform matrix to dataframes\n",
    "user_idss = pd.DataFrame(user_idss)\n",
    "pred = pd.DataFrame(pred) "
   ]
  },
  {
   "cell_type": "code",
   "execution_count": null,
   "id": "72611189",
   "metadata": {},
   "outputs": [],
   "source": [
    "is_id = np.concatenate((user_idss, is_id), axis = 1)"
   ]
  },
  {
   "cell_type": "code",
   "execution_count": null,
   "id": "2dc424b8",
   "metadata": {},
   "outputs": [],
   "source": [
    "is_id = pd.DataFrame(is_id)"
   ]
  },
  {
   "cell_type": "code",
   "execution_count": null,
   "id": "c75826a0",
   "metadata": {},
   "outputs": [],
   "source": [
    "is_id.shape"
   ]
  },
  {
   "cell_type": "markdown",
   "id": "6a0952fc",
   "metadata": {},
   "source": [
    "# Top 10 Recommanded Articles For Each Customer with Id: customer_id"
   ]
  },
  {
   "cell_type": "code",
   "execution_count": null,
   "id": "7ec6ee70",
   "metadata": {},
   "outputs": [],
   "source": [
    "is_id.columns = ['customer_id', 'A1', 'A2', 'A3', 'A4', 'A5', 'A6', 'A7', 'A8', 'A9', 'A10']\n",
    "is_id"
   ]
  },
  {
   "cell_type": "markdown",
   "id": "a1a361d2",
   "metadata": {},
   "source": [
    "# Average Popularity Factor of The Top 10 Recommanded Articles to Each Customer with Id: customer_id"
   ]
  },
  {
   "cell_type": "code",
   "execution_count": null,
   "id": "0b0993b3",
   "metadata": {},
   "outputs": [],
   "source": [
    "Predict_Avg_Pop_Factor = np.concatenate((user_idss, pred), axis = 1)\n",
    "Predict_Avg_Pop_Factor = pd.DataFrame(Predict_Avg_Pop_Factor)"
   ]
  },
  {
   "cell_type": "code",
   "execution_count": null,
   "id": "efd4f024",
   "metadata": {},
   "outputs": [],
   "source": [
    "Predict_Avg_Pop_Factor.columns = ['customer_id', 'Pred_Avg_pop_factor']\n",
    "Predict_Avg_Pop_Factor"
   ]
  },
  {
   "cell_type": "code",
   "execution_count": null,
   "id": "4ea10f67",
   "metadata": {},
   "outputs": [],
   "source": [
    "Predict_Avg_Pop_Factor.max()"
   ]
  },
  {
   "cell_type": "code",
   "execution_count": null,
   "id": "10f2d56f",
   "metadata": {},
   "outputs": [],
   "source": [
    "Predict_Avg_Pop_Factor.min()"
   ]
  },
  {
   "cell_type": "code",
   "execution_count": null,
   "id": "72a77000",
   "metadata": {},
   "outputs": [],
   "source": [
    "plt.scatter(Predict_Avg_Pop_Factor['customer_id'],Predict_Avg_Pop_Factor['Pred_Avg_pop_factor'])"
   ]
  },
  {
   "cell_type": "code",
   "execution_count": null,
   "id": "9a7a673e",
   "metadata": {},
   "outputs": [],
   "source": [
    "plt.hist(Predict_Avg_Pop_Factor['Pred_Avg_pop_factor'])"
   ]
  },
  {
   "cell_type": "code",
   "execution_count": null,
   "id": "dc8f94e4",
   "metadata": {},
   "outputs": [],
   "source": [
    "plt.plot(np.sort(Predict_Avg_Pop_Factor['Pred_Avg_pop_factor']))"
   ]
  },
  {
   "cell_type": "markdown",
   "id": "56225c0e",
   "metadata": {},
   "source": [
    "# Question?"
   ]
  },
  {
   "cell_type": "code",
   "execution_count": null,
   "id": "f97bda43",
   "metadata": {},
   "outputs": [],
   "source": [
    "pip freeze > requirements.txt"
   ]
  }
 ],
 "metadata": {
  "kernelspec": {
   "display_name": "Python 3 (ipykernel)",
   "language": "python",
   "name": "python3"
  },
  "language_info": {
   "codemirror_mode": {
    "name": "ipython",
    "version": 3
   },
   "file_extension": ".py",
   "mimetype": "text/x-python",
   "name": "python",
   "nbconvert_exporter": "python",
   "pygments_lexer": "ipython3",
   "version": "3.9.12"
  }
 },
 "nbformat": 4,
 "nbformat_minor": 5
}
